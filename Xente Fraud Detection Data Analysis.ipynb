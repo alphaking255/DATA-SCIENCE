{
 "cells": [
  {
   "cell_type": "code",
   "execution_count": 3,
   "metadata": {},
   "outputs": [],
   "source": [
    "import numpy as np\n",
    "import pandas as pd\n",
    "import matplotlib.pyplot as plt\n",
    "import seaborn as sns\n",
    "\n",
    "import gc\n",
    "gc.enable()\n",
    "gc.collect()\n",
    "\n",
    "pd.options.display.max_columns = 100\n",
    "\n",
    "%matplotlib inline"
   ]
  },
  {
   "cell_type": "code",
   "execution_count": 4,
   "metadata": {},
   "outputs": [
    {
     "ename": "FileNotFoundError",
     "evalue": "[Errno 2] File ./training.csv does not exist: './training.csv'",
     "output_type": "error",
     "traceback": [
      "\u001b[1;31m---------------------------------------------------------------------------\u001b[0m",
      "\u001b[1;31mFileNotFoundError\u001b[0m                         Traceback (most recent call last)",
      "\u001b[1;32m<ipython-input-4-484b4073feb5>\u001b[0m in \u001b[0;36m<module>\u001b[1;34m\u001b[0m\n\u001b[1;32m----> 1\u001b[1;33m \u001b[0mtrain\u001b[0m \u001b[1;33m=\u001b[0m \u001b[0mpd\u001b[0m\u001b[1;33m.\u001b[0m\u001b[0mread_csv\u001b[0m\u001b[1;33m(\u001b[0m\u001b[1;34m'./training.csv'\u001b[0m\u001b[1;33m)\u001b[0m\u001b[1;33m\u001b[0m\u001b[1;33m\u001b[0m\u001b[0m\n\u001b[0m\u001b[0;32m      2\u001b[0m \u001b[0mtest\u001b[0m \u001b[1;33m=\u001b[0m \u001b[0mpd\u001b[0m\u001b[1;33m.\u001b[0m\u001b[0mread_csv\u001b[0m\u001b[1;33m(\u001b[0m\u001b[1;34m'./test.csv'\u001b[0m\u001b[1;33m)\u001b[0m\u001b[1;33m\u001b[0m\u001b[1;33m\u001b[0m\u001b[0m\n\u001b[0;32m      3\u001b[0m \u001b[0mtrain\u001b[0m\u001b[1;33m.\u001b[0m\u001b[0mshape\u001b[0m\u001b[1;33m,\u001b[0m \u001b[0mtest\u001b[0m\u001b[1;33m.\u001b[0m\u001b[0mshape\u001b[0m\u001b[1;33m\u001b[0m\u001b[1;33m\u001b[0m\u001b[0m\n",
      "\u001b[1;32m~\\Anaconda3\\lib\\site-packages\\pandas\\io\\parsers.py\u001b[0m in \u001b[0;36mparser_f\u001b[1;34m(filepath_or_buffer, sep, delimiter, header, names, index_col, usecols, squeeze, prefix, mangle_dupe_cols, dtype, engine, converters, true_values, false_values, skipinitialspace, skiprows, skipfooter, nrows, na_values, keep_default_na, na_filter, verbose, skip_blank_lines, parse_dates, infer_datetime_format, keep_date_col, date_parser, dayfirst, cache_dates, iterator, chunksize, compression, thousands, decimal, lineterminator, quotechar, quoting, doublequote, escapechar, comment, encoding, dialect, error_bad_lines, warn_bad_lines, delim_whitespace, low_memory, memory_map, float_precision)\u001b[0m\n\u001b[0;32m    674\u001b[0m         )\n\u001b[0;32m    675\u001b[0m \u001b[1;33m\u001b[0m\u001b[0m\n\u001b[1;32m--> 676\u001b[1;33m         \u001b[1;32mreturn\u001b[0m \u001b[0m_read\u001b[0m\u001b[1;33m(\u001b[0m\u001b[0mfilepath_or_buffer\u001b[0m\u001b[1;33m,\u001b[0m \u001b[0mkwds\u001b[0m\u001b[1;33m)\u001b[0m\u001b[1;33m\u001b[0m\u001b[1;33m\u001b[0m\u001b[0m\n\u001b[0m\u001b[0;32m    677\u001b[0m \u001b[1;33m\u001b[0m\u001b[0m\n\u001b[0;32m    678\u001b[0m     \u001b[0mparser_f\u001b[0m\u001b[1;33m.\u001b[0m\u001b[0m__name__\u001b[0m \u001b[1;33m=\u001b[0m \u001b[0mname\u001b[0m\u001b[1;33m\u001b[0m\u001b[1;33m\u001b[0m\u001b[0m\n",
      "\u001b[1;32m~\\Anaconda3\\lib\\site-packages\\pandas\\io\\parsers.py\u001b[0m in \u001b[0;36m_read\u001b[1;34m(filepath_or_buffer, kwds)\u001b[0m\n\u001b[0;32m    446\u001b[0m \u001b[1;33m\u001b[0m\u001b[0m\n\u001b[0;32m    447\u001b[0m     \u001b[1;31m# Create the parser.\u001b[0m\u001b[1;33m\u001b[0m\u001b[1;33m\u001b[0m\u001b[1;33m\u001b[0m\u001b[0m\n\u001b[1;32m--> 448\u001b[1;33m     \u001b[0mparser\u001b[0m \u001b[1;33m=\u001b[0m \u001b[0mTextFileReader\u001b[0m\u001b[1;33m(\u001b[0m\u001b[0mfp_or_buf\u001b[0m\u001b[1;33m,\u001b[0m \u001b[1;33m**\u001b[0m\u001b[0mkwds\u001b[0m\u001b[1;33m)\u001b[0m\u001b[1;33m\u001b[0m\u001b[1;33m\u001b[0m\u001b[0m\n\u001b[0m\u001b[0;32m    449\u001b[0m \u001b[1;33m\u001b[0m\u001b[0m\n\u001b[0;32m    450\u001b[0m     \u001b[1;32mif\u001b[0m \u001b[0mchunksize\u001b[0m \u001b[1;32mor\u001b[0m \u001b[0miterator\u001b[0m\u001b[1;33m:\u001b[0m\u001b[1;33m\u001b[0m\u001b[1;33m\u001b[0m\u001b[0m\n",
      "\u001b[1;32m~\\Anaconda3\\lib\\site-packages\\pandas\\io\\parsers.py\u001b[0m in \u001b[0;36m__init__\u001b[1;34m(self, f, engine, **kwds)\u001b[0m\n\u001b[0;32m    878\u001b[0m             \u001b[0mself\u001b[0m\u001b[1;33m.\u001b[0m\u001b[0moptions\u001b[0m\u001b[1;33m[\u001b[0m\u001b[1;34m\"has_index_names\"\u001b[0m\u001b[1;33m]\u001b[0m \u001b[1;33m=\u001b[0m \u001b[0mkwds\u001b[0m\u001b[1;33m[\u001b[0m\u001b[1;34m\"has_index_names\"\u001b[0m\u001b[1;33m]\u001b[0m\u001b[1;33m\u001b[0m\u001b[1;33m\u001b[0m\u001b[0m\n\u001b[0;32m    879\u001b[0m \u001b[1;33m\u001b[0m\u001b[0m\n\u001b[1;32m--> 880\u001b[1;33m         \u001b[0mself\u001b[0m\u001b[1;33m.\u001b[0m\u001b[0m_make_engine\u001b[0m\u001b[1;33m(\u001b[0m\u001b[0mself\u001b[0m\u001b[1;33m.\u001b[0m\u001b[0mengine\u001b[0m\u001b[1;33m)\u001b[0m\u001b[1;33m\u001b[0m\u001b[1;33m\u001b[0m\u001b[0m\n\u001b[0m\u001b[0;32m    881\u001b[0m \u001b[1;33m\u001b[0m\u001b[0m\n\u001b[0;32m    882\u001b[0m     \u001b[1;32mdef\u001b[0m \u001b[0mclose\u001b[0m\u001b[1;33m(\u001b[0m\u001b[0mself\u001b[0m\u001b[1;33m)\u001b[0m\u001b[1;33m:\u001b[0m\u001b[1;33m\u001b[0m\u001b[1;33m\u001b[0m\u001b[0m\n",
      "\u001b[1;32m~\\Anaconda3\\lib\\site-packages\\pandas\\io\\parsers.py\u001b[0m in \u001b[0;36m_make_engine\u001b[1;34m(self, engine)\u001b[0m\n\u001b[0;32m   1112\u001b[0m     \u001b[1;32mdef\u001b[0m \u001b[0m_make_engine\u001b[0m\u001b[1;33m(\u001b[0m\u001b[0mself\u001b[0m\u001b[1;33m,\u001b[0m \u001b[0mengine\u001b[0m\u001b[1;33m=\u001b[0m\u001b[1;34m\"c\"\u001b[0m\u001b[1;33m)\u001b[0m\u001b[1;33m:\u001b[0m\u001b[1;33m\u001b[0m\u001b[1;33m\u001b[0m\u001b[0m\n\u001b[0;32m   1113\u001b[0m         \u001b[1;32mif\u001b[0m \u001b[0mengine\u001b[0m \u001b[1;33m==\u001b[0m \u001b[1;34m\"c\"\u001b[0m\u001b[1;33m:\u001b[0m\u001b[1;33m\u001b[0m\u001b[1;33m\u001b[0m\u001b[0m\n\u001b[1;32m-> 1114\u001b[1;33m             \u001b[0mself\u001b[0m\u001b[1;33m.\u001b[0m\u001b[0m_engine\u001b[0m \u001b[1;33m=\u001b[0m \u001b[0mCParserWrapper\u001b[0m\u001b[1;33m(\u001b[0m\u001b[0mself\u001b[0m\u001b[1;33m.\u001b[0m\u001b[0mf\u001b[0m\u001b[1;33m,\u001b[0m \u001b[1;33m**\u001b[0m\u001b[0mself\u001b[0m\u001b[1;33m.\u001b[0m\u001b[0moptions\u001b[0m\u001b[1;33m)\u001b[0m\u001b[1;33m\u001b[0m\u001b[1;33m\u001b[0m\u001b[0m\n\u001b[0m\u001b[0;32m   1115\u001b[0m         \u001b[1;32melse\u001b[0m\u001b[1;33m:\u001b[0m\u001b[1;33m\u001b[0m\u001b[1;33m\u001b[0m\u001b[0m\n\u001b[0;32m   1116\u001b[0m             \u001b[1;32mif\u001b[0m \u001b[0mengine\u001b[0m \u001b[1;33m==\u001b[0m \u001b[1;34m\"python\"\u001b[0m\u001b[1;33m:\u001b[0m\u001b[1;33m\u001b[0m\u001b[1;33m\u001b[0m\u001b[0m\n",
      "\u001b[1;32m~\\Anaconda3\\lib\\site-packages\\pandas\\io\\parsers.py\u001b[0m in \u001b[0;36m__init__\u001b[1;34m(self, src, **kwds)\u001b[0m\n\u001b[0;32m   1889\u001b[0m         \u001b[0mkwds\u001b[0m\u001b[1;33m[\u001b[0m\u001b[1;34m\"usecols\"\u001b[0m\u001b[1;33m]\u001b[0m \u001b[1;33m=\u001b[0m \u001b[0mself\u001b[0m\u001b[1;33m.\u001b[0m\u001b[0musecols\u001b[0m\u001b[1;33m\u001b[0m\u001b[1;33m\u001b[0m\u001b[0m\n\u001b[0;32m   1890\u001b[0m \u001b[1;33m\u001b[0m\u001b[0m\n\u001b[1;32m-> 1891\u001b[1;33m         \u001b[0mself\u001b[0m\u001b[1;33m.\u001b[0m\u001b[0m_reader\u001b[0m \u001b[1;33m=\u001b[0m \u001b[0mparsers\u001b[0m\u001b[1;33m.\u001b[0m\u001b[0mTextReader\u001b[0m\u001b[1;33m(\u001b[0m\u001b[0msrc\u001b[0m\u001b[1;33m,\u001b[0m \u001b[1;33m**\u001b[0m\u001b[0mkwds\u001b[0m\u001b[1;33m)\u001b[0m\u001b[1;33m\u001b[0m\u001b[1;33m\u001b[0m\u001b[0m\n\u001b[0m\u001b[0;32m   1892\u001b[0m         \u001b[0mself\u001b[0m\u001b[1;33m.\u001b[0m\u001b[0munnamed_cols\u001b[0m \u001b[1;33m=\u001b[0m \u001b[0mself\u001b[0m\u001b[1;33m.\u001b[0m\u001b[0m_reader\u001b[0m\u001b[1;33m.\u001b[0m\u001b[0munnamed_cols\u001b[0m\u001b[1;33m\u001b[0m\u001b[1;33m\u001b[0m\u001b[0m\n\u001b[0;32m   1893\u001b[0m \u001b[1;33m\u001b[0m\u001b[0m\n",
      "\u001b[1;32mpandas\\_libs\\parsers.pyx\u001b[0m in \u001b[0;36mpandas._libs.parsers.TextReader.__cinit__\u001b[1;34m()\u001b[0m\n",
      "\u001b[1;32mpandas\\_libs\\parsers.pyx\u001b[0m in \u001b[0;36mpandas._libs.parsers.TextReader._setup_parser_source\u001b[1;34m()\u001b[0m\n",
      "\u001b[1;31mFileNotFoundError\u001b[0m: [Errno 2] File ./training.csv does not exist: './training.csv'"
     ]
    }
   ],
   "source": [
    "train = pd.read_csv('./training.csv')\n",
    "test = pd.read_csv('./test.csv')\n",
    "train.shape, test.shape"
   ]
  },
  {
   "cell_type": "code",
   "execution_count": null,
   "metadata": {},
   "outputs": [],
   "source": [
    "#for col in ['TransactionId', 'BatchId', 'AccountId', 'SubscriptionId', 'CustomerId', 'ProviderId', 'ProductId', \n",
    "#            'ChannelId']:\n",
    "#    train[col] = train[col].str.extract('(\\d+)')\n",
    "#    train[col] = train[col].astype('int')\n",
    "    \n",
    "#    test[col] = test[col].str.extract('(\\d+)')\n",
    "#    test[col] = test[col].astype('int')"
   ]
  },
  {
   "cell_type": "code",
   "execution_count": null,
   "metadata": {},
   "outputs": [],
   "source": [
    "train['TransactionStartTime'] = train['TransactionStartTime'].str.replace('T', ' ')\n",
    "train['TransactionStartTime'] = train['TransactionStartTime'].str.replace('Z', '')\n",
    "\n",
    "test['TransactionStartTime'] = test['TransactionStartTime'].str.replace('T', ' ')\n",
    "test['TransactionStartTime'] = test['TransactionStartTime'].str.replace('Z', '')"
   ]
  },
  {
   "cell_type": "code",
   "execution_count": null,
   "metadata": {},
   "outputs": [],
   "source": [
    "#train['Date'] = train['TransactionStartTime'].str.extract('(\\d+-\\d+-\\d+)T')\n",
    "#train['Time'] = train['TransactionStartTime'].str.extract('(\\d+:\\d+:\\d+)Z')"
   ]
  },
  {
   "cell_type": "code",
   "execution_count": null,
   "metadata": {},
   "outputs": [],
   "source": [
    "train['TransactionStartTime'] = pd.to_datetime(train['TransactionStartTime'], infer_datetime_format=True) \n",
    "test['TransactionStartTime'] = pd.to_datetime(test['TransactionStartTime'], infer_datetime_format=True) "
   ]
  },
  {
   "cell_type": "code",
   "execution_count": null,
   "metadata": {},
   "outputs": [],
   "source": [
    "train['Year'] = train['TransactionStartTime'].dt.year\n",
    "train['Month'] = train['TransactionStartTime'].dt.month\n",
    "train['Day'] = train['TransactionStartTime'].dt.day\n",
    "train['Hour'] = train['TransactionStartTime'].dt.hour\n",
    "train['Minute'] = train['TransactionStartTime'].dt.minute\n",
    "train['Seconds'] = train['TransactionStartTime'].dt.second\n",
    "train['week'] = train['TransactionStartTime'].dt.week\n",
    "train['weekday'] = train['TransactionStartTime'].dt.weekday\n",
    "\n",
    "test['Year'] = test['TransactionStartTime'].dt.year\n",
    "test['Month'] = test['TransactionStartTime'].dt.month\n",
    "test['Day'] = test['TransactionStartTime'].dt.day\n",
    "test['Hour'] = test['TransactionStartTime'].dt.hour\n",
    "test['Minute'] = test['TransactionStartTime'].dt.minute\n",
    "test['Seconds'] = test['TransactionStartTime'].dt.second\n",
    "test['week'] = test['TransactionStartTime'].dt.week\n",
    "test['weekday'] = test['TransactionStartTime'].dt.weekday"
   ]
  },
  {
   "cell_type": "code",
   "execution_count": null,
   "metadata": {},
   "outputs": [],
   "source": [
    "train.loc[train['Amount'] > 0, 'Debit'] = 1\n",
    "train.loc[train['Amount'] < 0, 'Debit'] = 0\n",
    "\n",
    "test.loc[test['Amount'] > 0, 'Debit'] = 1\n",
    "test.loc[test['Amount'] < 0, 'Debit'] = 0\n",
    "\n",
    "train['Debit'] = train['Debit'].astype('int')\n",
    "test['Debit'] = test['Debit'].astype('int')"
   ]
  },
  {
   "cell_type": "code",
   "execution_count": null,
   "metadata": {},
   "outputs": [],
   "source": [
    "all_df = pd.concat([train, test]).reset_index(drop=True)\n",
    "all_df = all_df.sort_values(by='TransactionStartTime').reset_index(drop=True)\n",
    "all_df.shape"
   ]
  },
  {
   "cell_type": "code",
   "execution_count": null,
   "metadata": {},
   "outputs": [],
   "source": [
    "additional_cols = ['CustomerId', 'AccountId', 'TransactionStartTime', 'CountryCode']\n",
    "new_df = all_df[['TransactionId']+ additional_cols]"
   ]
  },
  {
   "cell_type": "code",
   "execution_count": null,
   "metadata": {},
   "outputs": [],
   "source": [
    "for col in ['Value', 'Day', 'Seconds', 'Amount']:\n",
    "    gdf = all_df.groupby('CustomerId')[col].mean().reset_index()\n",
    "    gdf.columns = ['CustomerId', 'Customer_'+col+'_mean']\n",
    "    new_df = pd.merge(new_df, gdf, on='CustomerId', how='left')\n",
    "    \n",
    "for col in ['Value', 'Day', 'Seconds', 'Amount', 'Debit']:\n",
    "    gdf = all_df.groupby('CustomerId')[col].sum().reset_index()\n",
    "    gdf.columns = ['CustomerId', 'Customer_'+col+'_sum']\n",
    "    new_df = pd.merge(new_df, gdf, on='CustomerId', how='left')\n",
    "    \n",
    "#for col in ['Value', 'Seconds', 'week', 'Amount']:\n",
    "#    gdf = all_df.groupby('CustomerId')[col].cumsum().reset_index()\n",
    "#    gdf.columns = ['CustomerId', 'Customer_'+col+'_cumsum']\n",
    "#    new_df = pd.merge(new_df, gdf, on='CustomerId', how='left')\n",
    "\n",
    "for col in ['AccountId', 'BatchId', 'SubscriptionId', 'ChannelId', 'ProductId', 'ProviderId']:\n",
    "    gdf = all_df.groupby('CustomerId')[col].nunique().reset_index()\n",
    "    gdf.columns = ['CustomerId', 'Customer_'+col+'_nunique']\n",
    "    new_df = pd.merge(new_df, gdf, on='CustomerId', how='left')"
   ]
  },
  {
   "cell_type": "code",
   "execution_count": null,
   "metadata": {},
   "outputs": [],
   "source": [
    "new_df['Customer_cumcount_seconds'] = all_df.groupby('CustomerId')['Seconds'].cumcount().values\n",
    "new_df['Customer_cumsum_day'] = all_df.groupby('CustomerId')['Day'].cumsum().values\n",
    "new_df['Customer_cumsum_month'] = all_df.groupby('CustomerId')['Month'].cumsum().values\n",
    "\n",
    "#all_df['prev_trans_date'] = all_df.groupby('CustomerId')['Seconds'].shift(1)\n",
    "#new_df['time_gap_prev'] = all_df['Seconds'] - all_df['prev_trans_date']\n",
    "\n",
    "#all_df['next_trans_date'] = all_df.groupby('CustomerId')['Seconds'].shift(-1)\n",
    "#new_df['time_gap_next'] = all_df['Seconds'] - all_df['next_trans_date']\n",
    "\n",
    "#all_df['prev_trans_date2'] = all_df.groupby('CustomerId')['Seconds'].shift(2)\n",
    "#new_df['time_gap_prev2'] = all_df['Seconds'] - all_df['prev_trans_date2']\n",
    "\n",
    "#all_df['next_trans_date2'] = all_df.groupby('CustomerId')['Seconds'].shift(-2)\n",
    "#new_df['time_gap_next2'] = all_df['Seconds'] - all_df['next_trans_date2']"
   ]
  },
  {
   "cell_type": "code",
   "execution_count": null,
   "metadata": {},
   "outputs": [],
   "source": [
    "gdf = pd.pivot_table(all_df, index=\"CustomerId\", columns=\"Year\", values=\"TransactionId\", aggfunc=\"count\", \n",
    "                     fill_value=0).reset_index()\n",
    "new_df = pd.merge(new_df, gdf, on=\"CustomerId\", how=\"left\")\n",
    "\n",
    "gdf = pd.pivot_table(all_df, index=\"CustomerId\", columns=\"Month\", values=\"TransactionId\", aggfunc=\"count\", \n",
    "                     fill_value=0).reset_index()\n",
    "new_df = pd.merge(new_df, gdf, on=\"CustomerId\", how=\"left\")\n",
    "\n",
    "gdf = pd.pivot_table(all_df, index=\"CustomerId\", columns=\"week\", values=\"TransactionId\", aggfunc=\"count\", \n",
    "                     fill_value=0).reset_index()\n",
    "new_df = pd.merge(new_df, gdf, on=\"CustomerId\", how=\"left\")\n",
    "\n",
    "gdf = pd.pivot_table(all_df, index=\"CustomerId\", columns=\"weekday\", values=\"TransactionId\", aggfunc=\"count\", \n",
    "                     fill_value=0).reset_index()\n",
    "new_df = pd.merge(new_df, gdf, on=\"CustomerId\", how=\"left\")"
   ]
  },
  {
   "cell_type": "code",
   "execution_count": null,
   "metadata": {},
   "outputs": [],
   "source": [
    "gdf = pd.pivot_table(all_df, index=\"CustomerId\", columns=\"ChannelId\", values=\"TransactionId\", aggfunc=\"count\", \n",
    "                     fill_value=0).reset_index()\n",
    "new_df = pd.merge(new_df, gdf, on=\"CustomerId\", how=\"left\")\n",
    "\n",
    "gdf = pd.pivot_table(all_df, index=\"CustomerId\", columns=\"ProviderId\", values=\"TransactionId\", aggfunc=\"count\", \n",
    "                     fill_value=0).reset_index()\n",
    "new_df = pd.merge(new_df, gdf, on=\"CustomerId\", how=\"left\")\n",
    "\n",
    "gdf = pd.pivot_table(all_df, index=\"CustomerId\", columns=\"ProductId\", values=\"TransactionId\", aggfunc=\"count\", \n",
    "                     fill_value=0).reset_index()\n",
    "new_df = pd.merge(new_df, gdf, on=\"CustomerId\", how=\"left\")"
   ]
  },
  {
   "cell_type": "code",
   "execution_count": null,
   "metadata": {},
   "outputs": [],
   "source": [
    "new_df = new_df.drop(additional_cols, axis=1)\n",
    "new_df.head()"
   ]
  },
  {
   "cell_type": "code",
   "execution_count": null,
   "metadata": {},
   "outputs": [],
   "source": [
    "new_df.to_csv('Feat_v4.csv', index=False)"
   ]
  },
  {
   "cell_type": "code",
   "execution_count": null,
   "metadata": {},
   "outputs": [],
   "source": []
  }
 ],
 "metadata": {
  "kernelspec": {
   "display_name": "Python 3",
   "language": "python",
   "name": "python3"
  },
  "language_info": {
   "codemirror_mode": {
    "name": "ipython",
    "version": 3
   },
   "file_extension": ".py",
   "mimetype": "text/x-python",
   "name": "python",
   "nbconvert_exporter": "python",
   "pygments_lexer": "ipython3",
   "version": "3.7.6"
  }
 },
 "nbformat": 4,
 "nbformat_minor": 2
}
